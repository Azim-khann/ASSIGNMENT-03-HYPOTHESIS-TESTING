{
 "cells": [
  {
   "cell_type": "markdown",
   "id": "80c8211f",
   "metadata": {},
   "source": [
    "<img src = excelrlogo.png/>"
   ]
  },
  {
   "cell_type": "markdown",
   "id": "9550a886",
   "metadata": {},
   "source": [
    "### ASSIGNMENT-03 -- TEST OF HYPOTHESIS"
   ]
  },
  {
   "cell_type": "markdown",
   "id": "982c4c2d",
   "metadata": {},
   "source": [
    "#### PROBLEM STATEMENT -- BuyerRatio\n",
    "\n",
    "We have BuyerRatio datset in csv format"
   ]
  },
  {
   "cell_type": "markdown",
   "id": "128f01c2",
   "metadata": {},
   "source": [
    "#### Libraries"
   ]
  },
  {
   "cell_type": "code",
   "execution_count": 6,
   "id": "78f2851b",
   "metadata": {},
   "outputs": [],
   "source": [
    "import numpy as np\n",
    "import pandas as pd"
   ]
  },
  {
   "cell_type": "code",
   "execution_count": 7,
   "id": "117182d2",
   "metadata": {},
   "outputs": [
    {
     "data": {
      "text/html": [
       "<div>\n",
       "<style scoped>\n",
       "    .dataframe tbody tr th:only-of-type {\n",
       "        vertical-align: middle;\n",
       "    }\n",
       "\n",
       "    .dataframe tbody tr th {\n",
       "        vertical-align: top;\n",
       "    }\n",
       "\n",
       "    .dataframe thead th {\n",
       "        text-align: right;\n",
       "    }\n",
       "</style>\n",
       "<table border=\"1\" class=\"dataframe\">\n",
       "  <thead>\n",
       "    <tr style=\"text-align: right;\">\n",
       "      <th></th>\n",
       "      <th>Observed Values</th>\n",
       "      <th>East</th>\n",
       "      <th>West</th>\n",
       "      <th>North</th>\n",
       "      <th>South</th>\n",
       "    </tr>\n",
       "  </thead>\n",
       "  <tbody>\n",
       "    <tr>\n",
       "      <th>0</th>\n",
       "      <td>Males</td>\n",
       "      <td>50</td>\n",
       "      <td>142</td>\n",
       "      <td>131</td>\n",
       "      <td>70</td>\n",
       "    </tr>\n",
       "    <tr>\n",
       "      <th>1</th>\n",
       "      <td>Females</td>\n",
       "      <td>435</td>\n",
       "      <td>1523</td>\n",
       "      <td>1356</td>\n",
       "      <td>750</td>\n",
       "    </tr>\n",
       "  </tbody>\n",
       "</table>\n",
       "</div>"
      ],
      "text/plain": [
       "  Observed Values  East  West  North  South\n",
       "0           Males    50   142    131     70\n",
       "1         Females   435  1523   1356    750"
      ]
     },
     "execution_count": 7,
     "metadata": {},
     "output_type": "execute_result"
    }
   ],
   "source": [
    "BuyerRatio = pd.read_csv(\"BuyerRatio.csv\")\n",
    "BuyerRatio"
   ]
  },
  {
   "cell_type": "markdown",
   "id": "f4380f95",
   "metadata": {},
   "source": [
    "#### Changing the data frame format to array format"
   ]
  },
  {
   "cell_type": "code",
   "execution_count": 8,
   "id": "96a9947b",
   "metadata": {},
   "outputs": [
    {
     "data": {
      "text/plain": [
       "array([['Males', 50, 142, 131, 70],\n",
       "       ['Females', 435, 1523, 1356, 750]], dtype=object)"
      ]
     },
     "execution_count": 8,
     "metadata": {},
     "output_type": "execute_result"
    }
   ],
   "source": [
    "BuyerRatio = BuyerRatio.to_numpy()\n",
    "BuyerRatio"
   ]
  },
  {
   "cell_type": "code",
   "execution_count": 9,
   "id": "dbdb884a",
   "metadata": {},
   "outputs": [
    {
     "data": {
      "text/plain": [
       "(50     1\n",
       " 435    1\n",
       " Name: East, dtype: int64,\n",
       " '\\n',\n",
       " 142     1\n",
       " 1523    1\n",
       " Name: West, dtype: int64,\n",
       " '\\n',\n",
       " 131     1\n",
       " 1356    1\n",
       " Name: North, dtype: int64,\n",
       " '\\n',\n",
       " 70     1\n",
       " 750    1\n",
       " Name: South, dtype: int64)"
      ]
     },
     "execution_count": 9,
     "metadata": {},
     "output_type": "execute_result"
    }
   ],
   "source": [
    "BuyerRatio.East.value_counts(), '\\n' ,BuyerRatio.West.value_counts(), '\\n' ,BuyerRatio.North.value_counts(), '\\n' ,BuyerRatio.South.value_counts()"
   ]
  },
  {
   "cell_type": "code",
   "execution_count": 10,
   "id": "39cd1696",
   "metadata": {},
   "outputs": [],
   "source": [
    "BuyerRatio = np.array([[50, 142, 131, 70], [435, 1523, 1356, 750]])"
   ]
  },
  {
   "cell_type": "code",
   "execution_count": 12,
   "id": "fb4639d7",
   "metadata": {},
   "outputs": [
    {
     "data": {
      "text/plain": [
       "Chi2ContingencyResult(statistic=1.595945538661058, pvalue=0.6603094907091882, dof=3, expected_freq=array([[  42.76531299,  146.81287862,  131.11756787,   72.30424052],\n",
       "       [ 442.23468701, 1518.18712138, 1355.88243213,  747.69575948]]))"
      ]
     },
     "execution_count": 12,
     "metadata": {},
     "output_type": "execute_result"
    }
   ],
   "source": [
    "chi2_contingency(BuyerRatio)"
   ]
  },
  {
   "cell_type": "markdown",
   "id": "6e0d84e5",
   "metadata": {},
   "source": [
    "#### To find the Chi square value and p_value"
   ]
  },
  {
   "cell_type": "code",
   "execution_count": 13,
   "id": "f10a58b2",
   "metadata": {},
   "outputs": [],
   "source": [
    "from scipy.stats import chi2_contingency"
   ]
  },
  {
   "cell_type": "code",
   "execution_count": 14,
   "id": "20568d07",
   "metadata": {},
   "outputs": [
    {
     "data": {
      "text/plain": [
       "Chi2ContingencyResult(statistic=1.595945538661058, pvalue=0.6603094907091882, dof=3, expected_freq=array([[  42.76531299,  146.81287862,  131.11756787,   72.30424052],\n",
       "       [ 442.23468701, 1518.18712138, 1355.88243213,  747.69575948]]))"
      ]
     },
     "execution_count": 14,
     "metadata": {},
     "output_type": "execute_result"
    }
   ],
   "source": [
    "chi2_contingency(BuyerRatio)"
   ]
  }
 ],
 "metadata": {
  "kernelspec": {
   "display_name": "Python 3 (ipykernel)",
   "language": "python",
   "name": "python3"
  },
  "language_info": {
   "codemirror_mode": {
    "name": "ipython",
    "version": 3
   },
   "file_extension": ".py",
   "mimetype": "text/x-python",
   "name": "python",
   "nbconvert_exporter": "python",
   "pygments_lexer": "ipython3",
   "version": "3.10.9"
  }
 },
 "nbformat": 4,
 "nbformat_minor": 5
}
